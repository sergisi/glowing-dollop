{
 "cells": [
  {
   "cell_type": "code",
   "execution_count": 1,
   "metadata": {},
   "outputs": [],
   "source": [
    "import numpy as np\n",
    "import pandas as pd\n",
    "import matplotlib.pyplot as plt\n",
    "import pathlib as pl\n",
    "from collections import defaultdict\n",
    "from functools import reduce"
   ]
  },
  {
   "cell_type": "code",
   "execution_count": 2,
   "metadata": {},
   "outputs": [
    {
     "data": {
      "text/html": [
       "<div>\n",
       "<style scoped>\n",
       "    .dataframe tbody tr th:only-of-type {\n",
       "        vertical-align: middle;\n",
       "    }\n",
       "\n",
       "    .dataframe tbody tr th {\n",
       "        vertical-align: top;\n",
       "    }\n",
       "\n",
       "    .dataframe thead th {\n",
       "        text-align: right;\n",
       "    }\n",
       "</style>\n",
       "<table border=\"1\" class=\"dataframe\">\n",
       "  <thead>\n",
       "    <tr style=\"text-align: right;\">\n",
       "      <th></th>\n",
       "      <th>initial-weight</th>\n",
       "      <th>weight</th>\n",
       "      <th>none-anonymity</th>\n",
       "      <th>mean</th>\n",
       "      <th>median</th>\n",
       "      <th>desviation</th>\n",
       "      <th>min</th>\n",
       "      <th>max</th>\n",
       "      <th>range</th>\n",
       "      <th>person1</th>\n",
       "      <th>person5</th>\n",
       "      <th>person10</th>\n",
       "      <th>person15</th>\n",
       "      <th>dispersion</th>\n",
       "    </tr>\n",
       "    <tr>\n",
       "      <th>seed</th>\n",
       "      <th></th>\n",
       "      <th></th>\n",
       "      <th></th>\n",
       "      <th></th>\n",
       "      <th></th>\n",
       "      <th></th>\n",
       "      <th></th>\n",
       "      <th></th>\n",
       "      <th></th>\n",
       "      <th></th>\n",
       "      <th></th>\n",
       "      <th></th>\n",
       "      <th></th>\n",
       "      <th></th>\n",
       "    </tr>\n",
       "  </thead>\n",
       "  <tbody>\n",
       "    <tr>\n",
       "      <th>0</th>\n",
       "      <td>1</td>\n",
       "      <td>1</td>\n",
       "      <td>7</td>\n",
       "      <td>13.621887</td>\n",
       "      <td>7.666667</td>\n",
       "      <td>10.462127</td>\n",
       "      <td>1.0</td>\n",
       "      <td>75.0</td>\n",
       "      <td>74.0</td>\n",
       "      <td>75.0</td>\n",
       "      <td>7.6</td>\n",
       "      <td>3.7</td>\n",
       "      <td>3.933333</td>\n",
       "      <td>28.276019</td>\n",
       "    </tr>\n",
       "    <tr>\n",
       "      <th>1</th>\n",
       "      <td>1</td>\n",
       "      <td>1</td>\n",
       "      <td>4</td>\n",
       "      <td>12.481864</td>\n",
       "      <td>8.000000</td>\n",
       "      <td>8.957151</td>\n",
       "      <td>1.0</td>\n",
       "      <td>86.0</td>\n",
       "      <td>85.0</td>\n",
       "      <td>18.0</td>\n",
       "      <td>2.6</td>\n",
       "      <td>2.6</td>\n",
       "      <td>4.200000</td>\n",
       "      <td>21.075649</td>\n",
       "    </tr>\n",
       "    <tr>\n",
       "      <th>2</th>\n",
       "      <td>1</td>\n",
       "      <td>1</td>\n",
       "      <td>1</td>\n",
       "      <td>13.104540</td>\n",
       "      <td>8.000000</td>\n",
       "      <td>9.430974</td>\n",
       "      <td>1.0</td>\n",
       "      <td>67.0</td>\n",
       "      <td>66.0</td>\n",
       "      <td>33.0</td>\n",
       "      <td>12.4</td>\n",
       "      <td>8.1</td>\n",
       "      <td>3.666667</td>\n",
       "      <td>28.578709</td>\n",
       "    </tr>\n",
       "    <tr>\n",
       "      <th>3</th>\n",
       "      <td>1</td>\n",
       "      <td>1</td>\n",
       "      <td>7</td>\n",
       "      <td>13.872643</td>\n",
       "      <td>8.333333</td>\n",
       "      <td>10.770722</td>\n",
       "      <td>1.0</td>\n",
       "      <td>99.0</td>\n",
       "      <td>98.0</td>\n",
       "      <td>11.0</td>\n",
       "      <td>10.2</td>\n",
       "      <td>1.5</td>\n",
       "      <td>3.200000</td>\n",
       "      <td>21.981065</td>\n",
       "    </tr>\n",
       "    <tr>\n",
       "      <th>4</th>\n",
       "      <td>1</td>\n",
       "      <td>1</td>\n",
       "      <td>2</td>\n",
       "      <td>12.996746</td>\n",
       "      <td>8.000000</td>\n",
       "      <td>9.540102</td>\n",
       "      <td>1.0</td>\n",
       "      <td>104.0</td>\n",
       "      <td>103.0</td>\n",
       "      <td>8.0</td>\n",
       "      <td>14.0</td>\n",
       "      <td>5.1</td>\n",
       "      <td>1.533333</td>\n",
       "      <td>18.524470</td>\n",
       "    </tr>\n",
       "  </tbody>\n",
       "</table>\n",
       "</div>"
      ],
      "text/plain": [
       "      initial-weight  weight  none-anonymity       mean    median  desviation  \\\n",
       "seed                                                                            \n",
       "0                  1       1               7  13.621887  7.666667   10.462127   \n",
       "1                  1       1               4  12.481864  8.000000    8.957151   \n",
       "2                  1       1               1  13.104540  8.000000    9.430974   \n",
       "3                  1       1               7  13.872643  8.333333   10.770722   \n",
       "4                  1       1               2  12.996746  8.000000    9.540102   \n",
       "\n",
       "      min    max  range  person1  person5  person10  person15  dispersion  \n",
       "seed                                                                       \n",
       "0     1.0   75.0   74.0     75.0      7.6       3.7  3.933333   28.276019  \n",
       "1     1.0   86.0   85.0     18.0      2.6       2.6  4.200000   21.075649  \n",
       "2     1.0   67.0   66.0     33.0     12.4       8.1  3.666667   28.578709  \n",
       "3     1.0   99.0   98.0     11.0     10.2       1.5  3.200000   21.981065  \n",
       "4     1.0  104.0  103.0      8.0     14.0       5.1  1.533333   18.524470  "
      ]
     },
     "execution_count": 2,
     "metadata": {},
     "output_type": "execute_result"
    }
   ],
   "source": [
    "p = pl.Path('../output/best/50-8')\n",
    "dirs = (x for x in p.iterdir())\n",
    "ds = defaultdict()\n",
    "for d in dirs:\n",
    "    name = int(d.name[:-4])\n",
    "    df = pd.read_csv(d).sort_values('seed')\n",
    "    df = df.rename(columns={'initial_weight': 'initial-weight'})\n",
    "    df = df.set_index('seed')\n",
    "    df = df.assign(dispersion=lambda x: x.desviation/(x.range * 0.5) * 100)\n",
    "    ds[name] = df\n",
    "ds[1].head()"
   ]
  },
  {
   "cell_type": "code",
   "execution_count": 3,
   "metadata": {},
   "outputs": [],
   "source": [
    "ls_df = list(map(lambda x: x[1].mean().to_frame().transpose(),ds.items()))"
   ]
  },
  {
   "cell_type": "code",
   "execution_count": 4,
   "metadata": {},
   "outputs": [
    {
     "data": {
      "text/plain": [
       "0    14.893134\n",
       "0    14.653735\n",
       "Name: mean, dtype: float64"
      ]
     },
     "execution_count": 4,
     "metadata": {},
     "output_type": "execute_result"
    }
   ],
   "source": [
    "ls_df[0]['mean'].append(ls_df[1]['mean'])"
   ]
  },
  {
   "cell_type": "code",
   "execution_count": 18,
   "metadata": {},
   "outputs": [],
   "source": [
    "getc= lambda c : reduce(lambda x, y: x.append(y),list(map(lambda x: x[c], ls_df)))\n",
    "getcs = lambda lis: lambda c : reduce(lambda x, y: x.append(y),list(map(lambda x: x[c], lis)))\n",
    "\n",
    "def show(ls_df, xc, yc):\n",
    "    plt.scatter(x=getc(xc),y=getc(yc))"
   ]
  },
  {
   "cell_type": "code",
   "execution_count": 34,
   "metadata": {},
   "outputs": [
    {
     "data": {
      "text/html": [
       "<div>\n",
       "<style scoped>\n",
       "    .dataframe tbody tr th:only-of-type {\n",
       "        vertical-align: middle;\n",
       "    }\n",
       "\n",
       "    .dataframe tbody tr th {\n",
       "        vertical-align: top;\n",
       "    }\n",
       "\n",
       "    .dataframe thead th {\n",
       "        text-align: right;\n",
       "    }\n",
       "</style>\n",
       "<table border=\"1\" class=\"dataframe\">\n",
       "  <thead>\n",
       "    <tr style=\"text-align: right;\">\n",
       "      <th></th>\n",
       "      <th>person1</th>\n",
       "      <th>color</th>\n",
       "    </tr>\n",
       "  </thead>\n",
       "  <tbody>\n",
       "    <tr>\n",
       "      <th>0</th>\n",
       "      <td>24.500000</td>\n",
       "      <td>#cb3ba2</td>\n",
       "    </tr>\n",
       "    <tr>\n",
       "      <th>0</th>\n",
       "      <td>24.388889</td>\n",
       "      <td>#cb3ba2</td>\n",
       "    </tr>\n",
       "    <tr>\n",
       "      <th>0</th>\n",
       "      <td>24.296296</td>\n",
       "      <td>#cb3ba2</td>\n",
       "    </tr>\n",
       "    <tr>\n",
       "      <th>0</th>\n",
       "      <td>24.203704</td>\n",
       "      <td>#cb3ba2</td>\n",
       "    </tr>\n",
       "    <tr>\n",
       "      <th>0</th>\n",
       "      <td>24.555556</td>\n",
       "      <td>#cb3ba2</td>\n",
       "    </tr>\n",
       "    <tr>\n",
       "      <th>...</th>\n",
       "      <td>...</td>\n",
       "      <td>...</td>\n",
       "    </tr>\n",
       "    <tr>\n",
       "      <th>0</th>\n",
       "      <td>24.740741</td>\n",
       "      <td>#cb3ba2</td>\n",
       "    </tr>\n",
       "    <tr>\n",
       "      <th>0</th>\n",
       "      <td>24.148148</td>\n",
       "      <td>#cb3ba2</td>\n",
       "    </tr>\n",
       "    <tr>\n",
       "      <th>0</th>\n",
       "      <td>24.518519</td>\n",
       "      <td>#cb3ba2</td>\n",
       "    </tr>\n",
       "    <tr>\n",
       "      <th>0</th>\n",
       "      <td>24.333333</td>\n",
       "      <td>#cb3ba2</td>\n",
       "    </tr>\n",
       "    <tr>\n",
       "      <th>0</th>\n",
       "      <td>24.277778</td>\n",
       "      <td>#cb3ba2</td>\n",
       "    </tr>\n",
       "  </tbody>\n",
       "</table>\n",
       "<p>200 rows × 2 columns</p>\n",
       "</div>"
      ],
      "text/plain": [
       "      person1    color\n",
       "0   24.500000  #cb3ba2\n",
       "0   24.388889  #cb3ba2\n",
       "0   24.296296  #cb3ba2\n",
       "0   24.203704  #cb3ba2\n",
       "0   24.555556  #cb3ba2\n",
       "..        ...      ...\n",
       "0   24.740741  #cb3ba2\n",
       "0   24.148148  #cb3ba2\n",
       "0   24.518519  #cb3ba2\n",
       "0   24.333333  #cb3ba2\n",
       "0   24.277778  #cb3ba2\n",
       "\n",
       "[200 rows x 2 columns]"
      ]
     },
     "execution_count": 34,
     "metadata": {},
     "output_type": "execute_result"
    }
   ],
   "source": [
    "def show_people(people, color_people):\n",
    "    gen =(getc(p).to_frame()\n",
    "          .rename(columns={p: 'person'})\n",
    "          .assign(color=lambda x: c) for p, c in zip(people, color_people))\n",
    "    res = reduce(lambda x, y: x.append(y), gen)\n",
    "    xdf = getc('initial-weight').to_frame()\n",
    "    xdf = reduce(lambda x,y: x.append(y), [xdf] * len(people))\n",
    "    plt.scatter(x=xdf['initial-weight'], y=res['person'], c=res['color'])\n",
    "getc('person1').to_frame().assign(color=lambda x: '#cb3ba2')"
   ]
  },
  {
   "cell_type": "code",
   "execution_count": 37,
   "metadata": {},
   "outputs": [
    {
     "data": {
      "image/png": "[encoded data removed]",
      "text/plain": [
       "<Figure size 432x288 with 1 Axes>"
      ]
     },
     "metadata": {
      "needs_background": "light"
     },
     "output_type": "display_data"
    }
   ],
   "source": [
    "show_people(['person1', 'person5', 'person10', 'person15'], ['red', 'yellow', 'green', 'blue'])"
   ]
  },
  {
   "cell_type": "code",
   "execution_count": 8,
   "metadata": {},
   "outputs": [
    {
     "data": {
      "image/png": "[encoded data removed]",
      "text/plain": [
       "<Figure size 432x288 with 1 Axes>"
      ]
     },
     "metadata": {
      "needs_background": "light"
     },
     "output_type": "display_data"
    }
   ],
   "source": [
    "show(ls_df, 'initial-weight', 'range')"
   ]
  }
 ],
 "metadata": {
  "kernelspec": {
   "display_name": "Python 3",
   "language": "python",
   "name": "python3"
  },
  "language_info": {
   "codemirror_mode": {
    "name": "ipython",
    "version": 3
   },
   "file_extension": ".py",
   "mimetype": "text/x-python",
   "name": "python",
   "nbconvert_exporter": "python",
   "pygments_lexer": "ipython3",
   "version": "3.8.5"
  }
 },
 "nbformat": 4,
 "nbformat_minor": 4
}
